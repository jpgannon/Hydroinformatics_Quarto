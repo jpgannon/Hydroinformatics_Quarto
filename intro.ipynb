{
  "cells": [
    {
      "cell_type": "markdown",
      "metadata": {},
      "source": [
        "# Introduction\n",
        "\n",
        "This is a book created from markdown and executable code.\n",
        "\n",
        "See @knuth84 for additional discussion of literate programming."
      ],
      "id": "db4d5d1f"
    }
  ],
  "metadata": {
    "kernelspec": {
      "name": "ir",
      "language": "R",
      "display_name": "R"
    }
  },
  "nbformat": 4,
  "nbformat_minor": 5
}