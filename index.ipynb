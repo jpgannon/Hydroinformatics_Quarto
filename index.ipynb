{
  "cells": [
    {
      "cell_type": "markdown",
      "metadata": {},
      "source": [
        "# Welcome {.unnumbered}\n",
        "\n",
        "This is a Quarto book.\n",
        "\n",
        "To learn more about Quarto books visit <https://quarto.org/docs/books>."
      ],
      "id": "ab4a9e03"
    }
  ],
  "metadata": {
    "kernelspec": {
      "name": "ir",
      "language": "R",
      "display_name": "R"
    }
  },
  "nbformat": 4,
  "nbformat_minor": 5
}